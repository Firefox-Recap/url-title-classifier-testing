{
 "cells": [
  {
   "cell_type": "markdown",
   "metadata": {},
   "source": [
    "# Import"
   ]
  },
  {
   "cell_type": "code",
   "execution_count": 1,
   "metadata": {},
   "outputs": [
    {
     "name": "stdout",
     "output_type": "stream",
     "text": [
      "Requirement already satisfied: pandas in /Users/taimur/Library/Mobile Documents/com~apple~CloudDocs/Projects/url-title-classifer/url-title-classifier-testing/.venv/lib/python3.13/site-packages (2.2.3)\n",
      "Requirement already satisfied: bs4 in /Users/taimur/Library/Mobile Documents/com~apple~CloudDocs/Projects/url-title-classifer/url-title-classifier-testing/.venv/lib/python3.13/site-packages (0.0.2)\n",
      "Requirement already satisfied: numpy>=1.26.0 in /Users/taimur/Library/Mobile Documents/com~apple~CloudDocs/Projects/url-title-classifer/url-title-classifier-testing/.venv/lib/python3.13/site-packages (from pandas) (2.2.4)\n",
      "Requirement already satisfied: python-dateutil>=2.8.2 in /Users/taimur/Library/Mobile Documents/com~apple~CloudDocs/Projects/url-title-classifer/url-title-classifier-testing/.venv/lib/python3.13/site-packages (from pandas) (2.9.0.post0)\n",
      "Requirement already satisfied: pytz>=2020.1 in /Users/taimur/Library/Mobile Documents/com~apple~CloudDocs/Projects/url-title-classifer/url-title-classifier-testing/.venv/lib/python3.13/site-packages (from pandas) (2025.2)\n",
      "Requirement already satisfied: tzdata>=2022.7 in /Users/taimur/Library/Mobile Documents/com~apple~CloudDocs/Projects/url-title-classifer/url-title-classifier-testing/.venv/lib/python3.13/site-packages (from pandas) (2025.2)\n",
      "Requirement already satisfied: beautifulsoup4 in /Users/taimur/Library/Mobile Documents/com~apple~CloudDocs/Projects/url-title-classifer/url-title-classifier-testing/.venv/lib/python3.13/site-packages (from bs4) (4.13.3)\n",
      "Requirement already satisfied: six>=1.5 in /Users/taimur/Library/Mobile Documents/com~apple~CloudDocs/Projects/url-title-classifer/url-title-classifier-testing/.venv/lib/python3.13/site-packages (from python-dateutil>=2.8.2->pandas) (1.17.0)\n",
      "Requirement already satisfied: soupsieve>1.2 in /Users/taimur/Library/Mobile Documents/com~apple~CloudDocs/Projects/url-title-classifer/url-title-classifier-testing/.venv/lib/python3.13/site-packages (from beautifulsoup4->bs4) (2.6)\n",
      "Requirement already satisfied: typing-extensions>=4.0.0 in /Users/taimur/Library/Mobile Documents/com~apple~CloudDocs/Projects/url-title-classifer/url-title-classifier-testing/.venv/lib/python3.13/site-packages (from beautifulsoup4->bs4) (4.13.0)\n",
      "Note: you may need to restart the kernel to use updated packages.\n"
     ]
    }
   ],
   "source": [
    "%pip install pandas bs4"
   ]
  },
  {
   "cell_type": "code",
   "execution_count": 2,
   "metadata": {},
   "outputs": [],
   "source": [
    "import pandas as pd\n",
    "from bs4 import BeautifulSoup"
   ]
  },
  {
   "cell_type": "markdown",
   "metadata": {},
   "source": [
    "# Load Paraquet File\n"
   ]
  },
  {
   "cell_type": "code",
   "execution_count": 3,
   "metadata": {},
   "outputs": [],
   "source": [
    "df = pd.read_parquet('../data/raw/extracted_data.parquet') # Data extracted from WARC files no catergories"
   ]
  },
  {
   "cell_type": "code",
   "execution_count": 4,
   "metadata": {},
   "outputs": [
    {
     "data": {
      "text/html": [
       "<div>\n",
       "<style scoped>\n",
       "    .dataframe tbody tr th:only-of-type {\n",
       "        vertical-align: middle;\n",
       "    }\n",
       "\n",
       "    .dataframe tbody tr th {\n",
       "        vertical-align: top;\n",
       "    }\n",
       "\n",
       "    .dataframe thead th {\n",
       "        text-align: right;\n",
       "    }\n",
       "</style>\n",
       "<table border=\"1\" class=\"dataframe\">\n",
       "  <thead>\n",
       "    <tr style=\"text-align: right;\">\n",
       "      <th></th>\n",
       "      <th>url</th>\n",
       "      <th>title</th>\n",
       "      <th>snippet</th>\n",
       "      <th>language</th>\n",
       "      <th>warc_id</th>\n",
       "      <th>content_type</th>\n",
       "      <th>server</th>\n",
       "      <th>warc_date</th>\n",
       "      <th>meta_description</th>\n",
       "    </tr>\n",
       "  </thead>\n",
       "  <tbody>\n",
       "    <tr>\n",
       "      <th>0</th>\n",
       "      <td>http://01088888317.com/bbs/board.php?bo_table=...</td>\n",
       "      <td>- 010-8888-8317 29 | -O1O-8888-8317,,,,,,,,,,,...</td>\n",
       "      <td>- 010-8888-8317 29 | -O1O-8888-8317,,,,,,,,,,,...</td>\n",
       "      <td>ko</td>\n",
       "      <td>&lt;urn:uuid:95572175-fb41-4767-8d53-21775666b97f&gt;</td>\n",
       "      <td></td>\n",
       "      <td></td>\n",
       "      <td>2025-02-12T21:01:52Z</td>\n",
       "      <td>,,,,,,,,,,,</td>\n",
       "    </tr>\n",
       "    <tr>\n",
       "      <th>1</th>\n",
       "      <td>http://22gl.nmjrjx.com/v_info/45979.html</td>\n",
       "      <td>__</td>\n",
       "      <td>__ : : 0.0 : : : 2022 : 720P/2025-02-12 21:19:...</td>\n",
       "      <td>zh-cn</td>\n",
       "      <td>&lt;urn:uuid:631f09c1-2037-46dc-b640-feeb3b435714&gt;</td>\n",
       "      <td></td>\n",
       "      <td></td>\n",
       "      <td>2025-02-12T21:19:13Z</td>\n",
       "      <td>:,,,,,,,...</td>\n",
       "    </tr>\n",
       "    <tr>\n",
       "      <th>2</th>\n",
       "      <td>http://2q6btsdcqcpjyxgs.meishu2005.com/vodplay...</td>\n",
       "      <td>-</td>\n",
       "      <td>-</td>\n",
       "      <td>zh-cn</td>\n",
       "      <td>&lt;urn:uuid:812bc243-59af-4160-84f8-a0882ada553a&gt;</td>\n",
       "      <td></td>\n",
       "      <td></td>\n",
       "      <td>2025-02-12T20:12:58Z</td>\n",
       "      <td>http://image.maimn.com/cover/fc4241940cf55c0da...</td>\n",
       "    </tr>\n",
       "    <tr>\n",
       "      <th>3</th>\n",
       "      <td>http://030303st.blogspot.com/2010/11/blog-post...</td>\n",
       "      <td>: 201011</td>\n",
       "      <td>: 201011 201011 4 324 100cc( ) ? 5 10 1111 ? R...</td>\n",
       "      <td>ja</td>\n",
       "      <td>&lt;urn:uuid:7339f15a-b284-4f81-8326-1fa4ecfde2c0&gt;</td>\n",
       "      <td></td>\n",
       "      <td></td>\n",
       "      <td>2025-02-12T20:57:51Z</td>\n",
       "      <td>...</td>\n",
       "    </tr>\n",
       "    <tr>\n",
       "      <th>4</th>\n",
       "      <td>http://3plus.es/es/17/56/led-smd-downlight</td>\n",
       "      <td>TRIPLE PLUS LIGHTING S.L.U | Nuestros Productos</td>\n",
       "      <td>TRIPLE PLUS LIGHTING S.L.U | Nuestros Productos</td>\n",
       "      <td>es</td>\n",
       "      <td>&lt;urn:uuid:bfd62070-5510-451d-96d0-e771a7a4f246&gt;</td>\n",
       "      <td></td>\n",
       "      <td></td>\n",
       "      <td>2025-02-12T21:23:50Z</td>\n",
       "      <td></td>\n",
       "    </tr>\n",
       "  </tbody>\n",
       "</table>\n",
       "</div>"
      ],
      "text/plain": [
       "                                                 url  \\\n",
       "0  http://01088888317.com/bbs/board.php?bo_table=...   \n",
       "1           http://22gl.nmjrjx.com/v_info/45979.html   \n",
       "2  http://2q6btsdcqcpjyxgs.meishu2005.com/vodplay...   \n",
       "3  http://030303st.blogspot.com/2010/11/blog-post...   \n",
       "4         http://3plus.es/es/17/56/led-smd-downlight   \n",
       "\n",
       "                                               title  \\\n",
       "0  - 010-8888-8317 29 | -O1O-8888-8317,,,,,,,,,,,...   \n",
       "1                                                 __   \n",
       "2                                                  -   \n",
       "3                                           : 201011   \n",
       "4    TRIPLE PLUS LIGHTING S.L.U | Nuestros Productos   \n",
       "\n",
       "                                             snippet language  \\\n",
       "0  - 010-8888-8317 29 | -O1O-8888-8317,,,,,,,,,,,...       ko   \n",
       "1  __ : : 0.0 : : : 2022 : 720P/2025-02-12 21:19:...    zh-cn   \n",
       "2                                                  -    zh-cn   \n",
       "3  : 201011 201011 4 324 100cc( ) ? 5 10 1111 ? R...       ja   \n",
       "4    TRIPLE PLUS LIGHTING S.L.U | Nuestros Productos       es   \n",
       "\n",
       "                                           warc_id content_type server  \\\n",
       "0  <urn:uuid:95572175-fb41-4767-8d53-21775666b97f>                       \n",
       "1  <urn:uuid:631f09c1-2037-46dc-b640-feeb3b435714>                       \n",
       "2  <urn:uuid:812bc243-59af-4160-84f8-a0882ada553a>                       \n",
       "3  <urn:uuid:7339f15a-b284-4f81-8326-1fa4ecfde2c0>                       \n",
       "4  <urn:uuid:bfd62070-5510-451d-96d0-e771a7a4f246>                       \n",
       "\n",
       "              warc_date                                   meta_description  \n",
       "0  2025-02-12T21:01:52Z                                        ,,,,,,,,,,,  \n",
       "1  2025-02-12T21:19:13Z                                        :,,,,,,,...  \n",
       "2  2025-02-12T20:12:58Z  http://image.maimn.com/cover/fc4241940cf55c0da...  \n",
       "3  2025-02-12T20:57:51Z                                                ...  \n",
       "4  2025-02-12T21:23:50Z                                                     "
      ]
     },
     "execution_count": 4,
     "metadata": {},
     "output_type": "execute_result"
    }
   ],
   "source": [
    "df.head()"
   ]
  },
  {
   "cell_type": "code",
   "execution_count": 5,
   "metadata": {},
   "outputs": [
    {
     "data": {
      "text/html": [
       "<div>\n",
       "<style scoped>\n",
       "    .dataframe tbody tr th:only-of-type {\n",
       "        vertical-align: middle;\n",
       "    }\n",
       "\n",
       "    .dataframe tbody tr th {\n",
       "        vertical-align: top;\n",
       "    }\n",
       "\n",
       "    .dataframe thead th {\n",
       "        text-align: right;\n",
       "    }\n",
       "</style>\n",
       "<table border=\"1\" class=\"dataframe\">\n",
       "  <thead>\n",
       "    <tr style=\"text-align: right;\">\n",
       "      <th></th>\n",
       "      <th>url</th>\n",
       "      <th>title</th>\n",
       "      <th>snippet</th>\n",
       "      <th>language</th>\n",
       "      <th>warc_id</th>\n",
       "      <th>content_type</th>\n",
       "      <th>server</th>\n",
       "      <th>warc_date</th>\n",
       "      <th>meta_description</th>\n",
       "    </tr>\n",
       "  </thead>\n",
       "  <tbody>\n",
       "    <tr>\n",
       "      <th>count</th>\n",
       "      <td>1000440</td>\n",
       "      <td>1000440</td>\n",
       "      <td>1000440</td>\n",
       "      <td>1000440</td>\n",
       "      <td>1000440</td>\n",
       "      <td>1000440</td>\n",
       "      <td>1000440</td>\n",
       "      <td>1000440</td>\n",
       "      <td>1000440</td>\n",
       "    </tr>\n",
       "    <tr>\n",
       "      <th>unique</th>\n",
       "      <td>1000312</td>\n",
       "      <td>607815</td>\n",
       "      <td>853642</td>\n",
       "      <td>55</td>\n",
       "      <td>1000440</td>\n",
       "      <td>7</td>\n",
       "      <td>3</td>\n",
       "      <td>599340</td>\n",
       "      <td>318058</td>\n",
       "    </tr>\n",
       "    <tr>\n",
       "      <th>top</th>\n",
       "      <td>http://contentz.mkt941.com/lp/static/notfound....</td>\n",
       "      <td></td>\n",
       "      <td>One moment, please... Loader Please wait while...</td>\n",
       "      <td>en</td>\n",
       "      <td>&lt;urn:uuid:95572175-fb41-4767-8d53-21775666b97f&gt;</td>\n",
       "      <td></td>\n",
       "      <td></td>\n",
       "      <td>2025-02-11T11:26:24Z</td>\n",
       "      <td></td>\n",
       "    </tr>\n",
       "    <tr>\n",
       "      <th>freq</th>\n",
       "      <td>6</td>\n",
       "      <td>39989</td>\n",
       "      <td>3060</td>\n",
       "      <td>385197</td>\n",
       "      <td>1</td>\n",
       "      <td>1000430</td>\n",
       "      <td>1000436</td>\n",
       "      <td>10</td>\n",
       "      <td>546109</td>\n",
       "    </tr>\n",
       "  </tbody>\n",
       "</table>\n",
       "</div>"
      ],
      "text/plain": [
       "                                                      url    title  \\\n",
       "count                                             1000440  1000440   \n",
       "unique                                            1000312   607815   \n",
       "top     http://contentz.mkt941.com/lp/static/notfound....            \n",
       "freq                                                    6    39989   \n",
       "\n",
       "                                                  snippet language  \\\n",
       "count                                             1000440  1000440   \n",
       "unique                                             853642       55   \n",
       "top     One moment, please... Loader Please wait while...       en   \n",
       "freq                                                 3060   385197   \n",
       "\n",
       "                                                warc_id content_type   server  \\\n",
       "count                                           1000440      1000440  1000440   \n",
       "unique                                          1000440            7        3   \n",
       "top     <urn:uuid:95572175-fb41-4767-8d53-21775666b97f>                         \n",
       "freq                                                  1      1000430  1000436   \n",
       "\n",
       "                   warc_date meta_description  \n",
       "count                1000440          1000440  \n",
       "unique                599340           318058  \n",
       "top     2025-02-11T11:26:24Z                   \n",
       "freq                      10           546109  "
      ]
     },
     "execution_count": 5,
     "metadata": {},
     "output_type": "execute_result"
    }
   ],
   "source": [
    "df.describe()"
   ]
  },
  {
   "cell_type": "markdown",
   "metadata": {},
   "source": [
    "Synthetic datageneration script has some col that need to be removed later these will be reworked."
   ]
  },
  {
   "cell_type": "code",
   "execution_count": 6,
   "metadata": {},
   "outputs": [],
   "source": [
    "df = df.drop(columns=['content_type','server'])"
   ]
  },
  {
   "cell_type": "markdown",
   "metadata": {},
   "source": [
    "# Drop missing values"
   ]
  },
  {
   "cell_type": "code",
   "execution_count": 7,
   "metadata": {},
   "outputs": [],
   "source": [
    "df = df.dropna(subset=['url', 'title', 'snippet','language','warc_id','meta_description'])"
   ]
  },
  {
   "cell_type": "markdown",
   "metadata": {},
   "source": [
    "# Drop duplicates"
   ]
  },
  {
   "cell_type": "code",
   "execution_count": 8,
   "metadata": {},
   "outputs": [],
   "source": [
    "df = df.drop_duplicates(subset=['url'], keep='first')\n",
    "df = df.drop_duplicates(subset=['warc_id'], keep='first')"
   ]
  },
  {
   "cell_type": "markdown",
   "metadata": {},
   "source": [
    "# Clean Text Fields\n",
    "the goal here is to remove formatting or parsing issues"
   ]
  },
  {
   "cell_type": "code",
   "execution_count": 9,
   "metadata": {},
   "outputs": [],
   "source": [
    "# Check and set data types\n",
    "df = df.astype({\n",
    "    'url': 'string',\n",
    "    'title': 'string',\n",
    "    'snippet': 'string',\n",
    "    'language': 'string',\n",
    "    'warc_id': 'string',\n",
    "    'meta_description': 'string'\n",
    "    # 'warc_date' is already datetime from Step 9\n",
    "})"
   ]
  },
  {
   "cell_type": "code",
   "execution_count": 10,
   "metadata": {},
   "outputs": [
    {
     "data": {
      "text/html": [
       "<div>\n",
       "<style scoped>\n",
       "    .dataframe tbody tr th:only-of-type {\n",
       "        vertical-align: middle;\n",
       "    }\n",
       "\n",
       "    .dataframe tbody tr th {\n",
       "        vertical-align: top;\n",
       "    }\n",
       "\n",
       "    .dataframe thead th {\n",
       "        text-align: right;\n",
       "    }\n",
       "</style>\n",
       "<table border=\"1\" class=\"dataframe\">\n",
       "  <thead>\n",
       "    <tr style=\"text-align: right;\">\n",
       "      <th></th>\n",
       "      <th>url</th>\n",
       "      <th>title</th>\n",
       "      <th>snippet</th>\n",
       "      <th>language</th>\n",
       "      <th>warc_id</th>\n",
       "      <th>warc_date</th>\n",
       "      <th>meta_description</th>\n",
       "    </tr>\n",
       "  </thead>\n",
       "  <tbody>\n",
       "    <tr>\n",
       "      <th>1000435</th>\n",
       "      <td>http://leadingpoint.co.kr/category/designer-show/</td>\n",
       "      <td>The Designer Show - LeadingPoint</td>\n",
       "      <td>The Designer Show - LeadingPoint The Designer ...</td>\n",
       "      <td>en</td>\n",
       "      <td>&lt;urn:uuid:1bfa435b-67c0-491e-a187-4a32cdc359ed&gt;</td>\n",
       "      <td>2025-02-12T11:49:57Z</td>\n",
       "      <td></td>\n",
       "    </tr>\n",
       "    <tr>\n",
       "      <th>1000436</th>\n",
       "      <td>http://linenbed.ru/otoplenie-doma-teplovym-nas...</td>\n",
       "      <td></td>\n",
       "      <td>&gt; 17.11.2019 10:46 - . , , , .</td>\n",
       "      <td>ru</td>\n",
       "      <td>&lt;urn:uuid:c7923178-d4ae-4a7d-b586-f0734e3b869b&gt;</td>\n",
       "      <td>2025-02-12T11:03:09Z</td>\n",
       "      <td>- . , , , . , . , , .</td>\n",
       "    </tr>\n",
       "    <tr>\n",
       "      <th>1000437</th>\n",
       "      <td>http://livinggreenandsavingenergy.com/2021/06/...</td>\n",
       "      <td>All dogs go to heaven red Comics - hentai comivs</td>\n",
       "      <td>All dogs go to heaven red Comics - hentai comi...</td>\n",
       "      <td>en</td>\n",
       "      <td>&lt;urn:uuid:d1a6f40f-cdad-4f72-8105-7c105476c841&gt;</td>\n",
       "      <td>2025-02-12T11:06:02Z</td>\n",
       "      <td></td>\n",
       "    </tr>\n",
       "    <tr>\n",
       "      <th>1000438</th>\n",
       "      <td>http://lovesoul.co.kr/29/?q=YToyOntzOjEyOiJrZX...</td>\n",
       "      <td></td>\n",
       "      <td>. .</td>\n",
       "      <td>ko</td>\n",
       "      <td>&lt;urn:uuid:45158090-12e8-49e6-8697-c4c5b9a676af&gt;</td>\n",
       "      <td>2025-02-12T10:17:13Z</td>\n",
       "      <td>, , , , , , , , , .</td>\n",
       "    </tr>\n",
       "    <tr>\n",
       "      <th>1000439</th>\n",
       "      <td>http://m.8090hy.com/product/343173.html</td>\n",
       "      <td>SM_(fa)(dong)-2002,,(jing)(ying),(yu)(jing)(yi...</td>\n",
       "      <td>SM_(fa)(dong)-2002,,(jing)(ying),(yu)(jing)(yi...</td>\n",
       "      <td>zh-cn</td>\n",
       "      <td>&lt;urn:uuid:5bcfa3e1-c912-4a22-a508-78f8fc059808&gt;</td>\n",
       "      <td>2025-02-12T11:44:20Z</td>\n",
       "      <td>(fa)(chan)(chang),(jing)(ying),(yu)(jing)(ying...</td>\n",
       "    </tr>\n",
       "  </tbody>\n",
       "</table>\n",
       "</div>"
      ],
      "text/plain": [
       "                                                       url  \\\n",
       "1000435  http://leadingpoint.co.kr/category/designer-show/   \n",
       "1000436  http://linenbed.ru/otoplenie-doma-teplovym-nas...   \n",
       "1000437  http://livinggreenandsavingenergy.com/2021/06/...   \n",
       "1000438  http://lovesoul.co.kr/29/?q=YToyOntzOjEyOiJrZX...   \n",
       "1000439            http://m.8090hy.com/product/343173.html   \n",
       "\n",
       "                                                     title  \\\n",
       "1000435                   The Designer Show - LeadingPoint   \n",
       "1000436                                                      \n",
       "1000437   All dogs go to heaven red Comics - hentai comivs   \n",
       "1000438                                                      \n",
       "1000439  SM_(fa)(dong)-2002,,(jing)(ying),(yu)(jing)(yi...   \n",
       "\n",
       "                                                   snippet language  \\\n",
       "1000435  The Designer Show - LeadingPoint The Designer ...       en   \n",
       "1000436                     > 17.11.2019 10:46 - . , , , .       ru   \n",
       "1000437  All dogs go to heaven red Comics - hentai comi...       en   \n",
       "1000438                                                . .       ko   \n",
       "1000439  SM_(fa)(dong)-2002,,(jing)(ying),(yu)(jing)(yi...    zh-cn   \n",
       "\n",
       "                                                 warc_id  \\\n",
       "1000435  <urn:uuid:1bfa435b-67c0-491e-a187-4a32cdc359ed>   \n",
       "1000436  <urn:uuid:c7923178-d4ae-4a7d-b586-f0734e3b869b>   \n",
       "1000437  <urn:uuid:d1a6f40f-cdad-4f72-8105-7c105476c841>   \n",
       "1000438  <urn:uuid:45158090-12e8-49e6-8697-c4c5b9a676af>   \n",
       "1000439  <urn:uuid:5bcfa3e1-c912-4a22-a508-78f8fc059808>   \n",
       "\n",
       "                    warc_date  \\\n",
       "1000435  2025-02-12T11:49:57Z   \n",
       "1000436  2025-02-12T11:03:09Z   \n",
       "1000437  2025-02-12T11:06:02Z   \n",
       "1000438  2025-02-12T10:17:13Z   \n",
       "1000439  2025-02-12T11:44:20Z   \n",
       "\n",
       "                                          meta_description  \n",
       "1000435                                                     \n",
       "1000436                              - . , , , . , . , , .  \n",
       "1000437                                                     \n",
       "1000438                                , , , , , , , , , .  \n",
       "1000439  (fa)(chan)(chang),(jing)(ying),(yu)(jing)(ying...  "
      ]
     },
     "execution_count": 10,
     "metadata": {},
     "output_type": "execute_result"
    }
   ],
   "source": [
    "df.tail()"
   ]
  },
  {
   "cell_type": "code",
   "execution_count": 11,
   "metadata": {},
   "outputs": [],
   "source": [
    "df.to_parquet('../data/processed/cleaned_extracted.parquet') # This data is cleaned and ready for synthetic data generation"
   ]
  }
 ],
 "metadata": {
  "kernelspec": {
   "display_name": ".venv",
   "language": "python",
   "name": "python3"
  },
  "language_info": {
   "codemirror_mode": {
    "name": "ipython",
    "version": 3
   },
   "file_extension": ".py",
   "mimetype": "text/x-python",
   "name": "python",
   "nbconvert_exporter": "python",
   "pygments_lexer": "ipython3",
   "version": "3.13.2"
  }
 },
 "nbformat": 4,
 "nbformat_minor": 2
}
