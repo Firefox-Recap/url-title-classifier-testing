{
 "cells": [
  {
   "cell_type": "code",
   "execution_count": null,
   "metadata": {},
   "outputs": [],
   "source": [
    "# %pip install pandas seaborn matplotlib tldextract pyarrow fastparquet"
   ]
  },
  {
   "cell_type": "code",
   "execution_count": 1,
   "metadata": {},
   "outputs": [],
   "source": [
    "import pandas as pd\n",
    "import matplotlib.pyplot as plt\n",
    "import seaborn as sns\n",
    "import numpy as np\n",
    "from urllib.parse import urlparse\n",
    "import tldextract\n",
    "from collections import Counter\n",
    "from itertools import combinations"
   ]
  },
  {
   "cell_type": "code",
   "execution_count": 2,
   "metadata": {},
   "outputs": [],
   "source": [
    "df = pd.read_parquet(\"../data/processed/cleaned_classified.parquet\")"
   ]
  },
  {
   "cell_type": "code",
   "execution_count": null,
   "metadata": {},
   "outputs": [],
   "source": [
    "# Dataset Overview\n",
    "print(\"Dataset Overview:\")\n",
    "print(f\"Total samples: {len(df):,}\")  # Added comma for readability\n",
    "print(f\"Number of columns: {len(df.columns)}\")\n",
    "print(\"\\nMissing values check:\")\n",
    "print(df[['url', 'title', 'category']].isnull().sum())\n",
    "# Define allowed categories\n",
    "allowed_categories = ['News', 'Entertainment', 'Shop', 'Chat', 'Education',\n",
    "                      'Government', 'Health', 'Technology', 'Work', 'Travel', 'Uncategorized']\n",
    "# Explode categories for analysis\n",
    "df_exploded = df.explode('category')\n",
    "# Count occurrences of each category\n",
    "category_counts = df_exploded['category'].value_counts()\n",
    "filtered_counts = category_counts[category_counts.index.isin(allowed_categories)]\n",
    "print(\"\\nFiltered Category Counts:\")\n",
    "print(filtered_counts)\n",
    "print(\"\\nAll Category Counts:\")\n",
    "print(category_counts)\n",
    "print(\"\\nDataFrame Tail:\")\n",
    "print(df.tail())"
   ]
  },
  {
   "cell_type": "code",
   "execution_count": null,
   "metadata": {},
   "outputs": [],
   "source": [
    "# Plot 1: Category Distribution Bar Chart\n",
    "sorted_counts = filtered_counts.sort_values(ascending=False)\n",
    "plt.figure(figsize=(14, 8))\n",
    "ax = sns.barplot(\n",
    "    x=sorted_counts.index,\n",
    "    y=sorted_counts.values,\n",
    "    palette='plasma', \n",
    "    hue=sorted_counts.index\n",
    ")\n",
    "plt.title('URL Category Distribution', fontsize=18, weight='bold')\n",
    "plt.xlabel('Category', fontsize=14)\n",
    "plt.xticks(rotation=40, ha='right', fontsize=12)\n",
    "plt.yticks(fontsize=12)\n",
    "plt.grid(axis='y', linestyle='--', alpha=0.4)\n",
    "# Add labels on top of bars\n",
    "for i, count in enumerate(sorted_counts.values):\n",
    "    ax.text(i, count + max(sorted_counts.values) * 0.01, f\"{count:,}\",  # Added comma formatting\n",
    "            ha='center', va='bottom', fontsize=12, fontweight='semibold')\n",
    "sns.despine()\n",
    "plt.tight_layout()\n",
    "plt.show()"
   ]
  },
  {
   "cell_type": "code",
   "execution_count": null,
   "metadata": {},
   "outputs": [],
   "source": [
    "# Plot 2: Category Distribution Pie Chart\n",
    "sorted_counts = filtered_counts.sort_values(ascending=False)\n",
    "colors = sns.color_palette('viridis', len(sorted_counts))\n",
    "explode = [0.03] * len(sorted_counts)\n",
    "plt.figure(figsize=(10, 10))\n",
    "plt.pie(\n",
    "    sorted_counts,\n",
    "    labels=sorted_counts.index,\n",
    "    autopct='%1.1f%%',\n",
    "    startangle=140,\n",
    "    colors=colors,\n",
    "    explode=explode,\n",
    "    wedgeprops={'edgecolor': 'white', 'linewidth': 1}\n",
    ")\n",
    "plt.title('Category Distribution (Percentage)', fontsize=18, weight='bold')\n",
    "plt.axis('equal')\n",
    "plt.tight_layout()\n",
    "plt.show()"
   ]
  },
  {
   "cell_type": "code",
   "execution_count": null,
   "metadata": {},
   "outputs": [],
   "source": [
    "# Plot 3: Multi-label Analysis - Number of categories per URL\n",
    "label_counts = df['category'].apply(len).value_counts().sort_index()\n",
    "\n",
    "plt.figure(figsize=(10, 6))\n",
    "ax = sns.barplot(\n",
    "    x=label_counts.index,\n",
    "    y=label_counts.values,\n",
    "    palette='magma',\n",
    "    hue=label_counts.index\n",
    ")\n",
    "plt.title('Number of Categories Assigned per URL', fontsize=18, weight='bold')\n",
    "plt.xlabel('Number of Categories', fontsize=14)\n",
    "plt.ylabel('Number of URLs', fontsize=14)\n",
    "plt.xticks(fontsize=12)\n",
    "plt.yticks(fontsize=12)\n",
    "plt.grid(axis='y', linestyle='--', alpha=0.3)\n",
    "\n",
    "# Add count labels on top of bars\n",
    "for i, count in enumerate(label_counts.values):\n",
    "    ax.text(i, count + max(label_counts.values) * 0.01, f\"{count:,}\",  # Added comma formatting\n",
    "            ha='center', va='bottom', fontsize=11, fontweight='medium')\n",
    "\n",
    "sns.despine()\n",
    "plt.tight_layout()\n",
    "plt.show()"
   ]
  },
  {
   "cell_type": "code",
   "execution_count": 8,
   "metadata": {},
   "outputs": [],
   "source": [
    "# Initialize co-occurrence matrix\n",
    "cooccurrence = pd.DataFrame(0, index=allowed_categories, columns=allowed_categories)\n",
    "# Populate co-occurrence matrix\n",
    "for labels in df['category']:\n",
    "    unique_labels = set(labels)\n",
    "    for cat1 in unique_labels:\n",
    "        for cat2 in unique_labels:\n",
    "            if cat1 in allowed_categories and cat2 in allowed_categories:\n",
    "                cooccurrence.loc[cat1, cat2] += 1\n",
    "combination_counts = Counter(tuple(sorted(labels)) for labels in df['category'] if len(labels) > 0)"
   ]
  },
  {
   "cell_type": "code",
   "execution_count": null,
   "metadata": {},
   "outputs": [],
   "source": [
    "# Plot 4: Category Co-occurrence Heatmap\n",
    "plt.figure(figsize=(14, 12))\n",
    "mask = np.triu(np.ones_like(cooccurrence, dtype=bool))  # Use cooccurrence DataFrame\n",
    "\n",
    "sns.heatmap(\n",
    "    cooccurrence,  # Use cooccurrence DataFrame\n",
    "    mask=mask,\n",
    "    annot=True,\n",
    "    fmt='d',\n",
    "    cmap='viridis',\n",
    "    linewidths=0.5,\n",
    "    square=True,\n",
    "    cbar_kws={'label': 'Co-occurrence Count'}\n",
    ")\n",
    "\n",
    "plt.title('Category Co-occurrence Heatmap', fontsize=20, weight='bold')\n",
    "plt.xticks(rotation=45, ha='right', fontsize=11)\n",
    "plt.yticks(rotation=0, fontsize=11)\n",
    "plt.tight_layout()\n",
    "plt.show()"
   ]
  },
  {
   "cell_type": "code",
   "execution_count": 10,
   "metadata": {},
   "outputs": [],
   "source": [
    "# Calculate conditional probabilities\n",
    "conditional_prob = pd.DataFrame(0.0, index=allowed_categories, columns=allowed_categories)\n",
    "for cat1 in allowed_categories:\n",
    "    for cat2 in allowed_categories:\n",
    "        if cat1 != cat2 and filtered_counts.get(cat1, 0) > 0:\n",
    "            conditional_prob.loc[cat1, cat2] = cooccurrence.loc[cat1, cat2] / filtered_counts[cat1]"
   ]
  },
  {
   "cell_type": "code",
   "execution_count": null,
   "metadata": {},
   "outputs": [],
   "source": [
    "# Plot 5: Conditional Probability Heatmap\n",
    "plt.figure(figsize=(14, 12))\n",
    "mask = np.triu(np.ones_like(conditional_prob, dtype=bool))  # Use conditional_prob DataFrame\n",
    "\n",
    "sns.heatmap(\n",
    "    conditional_prob,  # Use conditional_prob DataFrame\n",
    "    mask=mask,\n",
    "    annot=True,\n",
    "    fmt=\".2f\",\n",
    "    cmap='Reds',\n",
    "    linewidths=0.5,\n",
    "    square=True,\n",
    "    cbar_kws={'label': 'Conditional Probability'}\n",
    ")\n",
    "\n",
    "plt.title('Conditional Probability Heatmap', fontsize=20, weight='bold')\n",
    "plt.xticks(rotation=45, ha='right', fontsize=11)\n",
    "plt.yticks(rotation=0, fontsize=11)\n",
    "plt.tight_layout()\n",
    "plt.show()"
   ]
  },
  {
   "cell_type": "code",
   "execution_count": null,
   "metadata": {},
   "outputs": [],
   "source": [
    "\n",
    "# Plot 6: Top Category Combinations\n",
    "top_n = 15\n",
    "top_combinations = combination_counts.most_common(top_n)\n",
    "labels = [' + '.join(combo) for combo, _ in top_combinations]\n",
    "counts = [count for _, count in top_combinations]\n",
    "\n",
    "plt.figure(figsize=(14, 10))\n",
    "ax = sns.barplot(x=counts, y=labels, palette='viridis', hue=labels)\n",
    "\n",
    "plt.title(f'Top {top_n} Category Combinations', fontsize=20, weight='bold')\n",
    "plt.xlabel('Number of URLs', fontsize=14)\n",
    "plt.ylabel('Category Combination', fontsize=14)\n",
    "plt.xticks(fontsize=12)\n",
    "plt.yticks(fontsize=12)\n",
    "plt.grid(axis='x', linestyle='--', alpha=0.3)\n",
    "\n",
    "# Add count labels at end of bars\n",
    "for i, count in enumerate(counts):\n",
    "    ax.text(count + max(counts) * 0.01, i, f'{count}', va='center', fontsize=11)\n",
    "\n",
    "sns.despine()\n",
    "plt.tight_layout()\n",
    "plt.show()"
   ]
  },
  {
   "cell_type": "code",
   "execution_count": null,
   "metadata": {},
   "outputs": [],
   "source": [
    "# Plot 7: title lenght vs category\n",
    "plt.figure(figsize=(16, 8))\n",
    "sns.boxplot(x='category', y='title_length', data=df_exploded, palette='Set2')\n",
    "plt.title('Title Length Distribution by Category', fontsize=18, fontweight='bold')\n",
    "plt.xlabel('Category', fontsize=14)\n",
    "plt.ylabel('Title Length', fontsize=14)\n",
    "plt.xticks(rotation=45, ha='right')\n",
    "plt.tight_layout()\n",
    "plt.show()"
   ]
  },
  {
   "cell_type": "code",
   "execution_count": null,
   "metadata": {},
   "outputs": [],
   "source": [
    "#plot 8: url length vs category\n",
    "plt.figure(figsize=(16, 8))\n",
    "sns.boxplot(x='category', y='url_length', data=df_exploded, palette='Set2')\n",
    "plt.title('URL Length Distribution by Category', fontsize=18, fontweight='bold')\n",
    "plt.xlabel('Category', fontsize=14)\n",
    "plt.ylabel('URL Length', fontsize=14)\n",
    "plt.xticks(rotation=45, ha='right')\n",
    "plt.tight_layout()\n",
    "plt.show()"
   ]
  },
  {
   "cell_type": "code",
   "execution_count": null,
   "metadata": {},
   "outputs": [],
   "source": [
    "#plot 9: url special character count vs category\n",
    "plt.figure(figsize=(16, 8))\n",
    "sns.boxplot(x='category', y='url_special_count', data=df_exploded, palette='Set2')\n",
    "plt.title('URL Special Character Count Distribution by Category', fontsize=18, fontweight='bold')\n",
    "plt.xlabel('Category', fontsize=14)\n",
    "plt.ylabel('URL Special Character Count', fontsize=14)\n",
    "plt.xticks(rotation=45, ha='right')\n",
    "plt.tight_layout()\n",
    "plt.show()"
   ]
  },
  {
   "cell_type": "code",
   "execution_count": null,
   "metadata": {},
   "outputs": [],
   "source": [
    "#plot 10: title word count vs category\n",
    "plt.figure(figsize=(16, 8))\n",
    "sns.boxplot(x='category', y='title_word_count', data=df_exploded, palette='Set2')\n",
    "plt.title('Title Word Count Distribution by Category', fontsize=18, fontweight='bold')\n",
    "plt.xlabel('Category', fontsize=14)\n",
    "plt.ylabel('Title Word Count', fontsize=14)\n",
    "plt.xticks(rotation=45, ha='right')\n",
    "plt.tight_layout()\n",
    "plt.show()"
   ]
  }
 ],
 "metadata": {
  "kernelspec": {
   "display_name": ".venv",
   "language": "python",
   "name": "python3"
  },
  "language_info": {
   "codemirror_mode": {
    "name": "ipython",
    "version": 3
   },
   "file_extension": ".py",
   "mimetype": "text/x-python",
   "name": "python",
   "nbconvert_exporter": "python",
   "pygments_lexer": "ipython3",
   "version": "3.13.2"
  }
 },
 "nbformat": 4,
 "nbformat_minor": 2
}
